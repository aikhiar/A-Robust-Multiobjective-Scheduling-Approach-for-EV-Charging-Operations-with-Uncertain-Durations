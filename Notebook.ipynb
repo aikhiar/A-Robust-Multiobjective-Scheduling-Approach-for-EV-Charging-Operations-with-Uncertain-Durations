{
 "cells": [
  {
   "cell_type": "markdown",
   "id": "1569da37-ed79-466d-ad55-df275d2dc4f1",
   "metadata": {},
   "source": [
    "# Dependency"
   ]
  },
  {
   "cell_type": "code",
   "execution_count": null,
   "id": "da0e7d97-e8dd-4ea2-b9a1-de3d2c2a3453",
   "metadata": {},
   "outputs": [],
   "source": [
    "from dependency import *"
   ]
  },
  {
   "cell_type": "markdown",
   "id": "a9573c4c-6ece-42c7-b4e4-b59d95f4cc47",
   "metadata": {
    "jp-MarkdownHeadingCollapsed": true
   },
   "source": [
    "# Simulate random uniform instance"
   ]
  },
  {
   "cell_type": "code",
   "execution_count": null,
   "id": "57af7ac6-a3ff-42be-b4bb-701f276c1c07",
   "metadata": {},
   "outputs": [],
   "source": [
    "def simulate_instance(n = 20,\n",
    "                      m = 6,\n",
    "                      min_vehicle_arrival = 1,\n",
    "                      max_vehicle_arrival = 100,\n",
    "                      min_waiting_time = 1,\n",
    "                      max_waiting_time = 6,\n",
    "                      min_chargers_availability_time = 1,\n",
    "                      max_chargers_availability_time = 20,\n",
    "                      min_required_energy = 30,\n",
    "                      max_required_energy = 100,\n",
    "                      charging_powers = [10,20,30,40],\n",
    "                      std_deviations_values = np.linspace(0.05,0.2,10),\n",
    "                      min_perc_compatibility = 50,\n",
    "                      kappa = 1):\n",
    "\n",
    "    A = np.zeros((n,m), dtype = np.int8)\n",
    "    requests = np.zeros((n,3))\n",
    "    for i in range(n):\n",
    "        arrival = np.random.uniform(min_vehicle_arrival, max_vehicle_arrival)\n",
    "\n",
    "        waiting_time = np.random.uniform(min_waiting_time, max_waiting_time)\n",
    "\n",
    "        departure = np.random.uniform(arrival, arrival+waiting_time)\n",
    "        \n",
    "        energy = np.random.uniform(min_required_energy, max_required_energy)\n",
    "\n",
    "        requests[i] = arrival, departure, energy\n",
    "\n",
    "        num_compatible_chargers = np.random.randint(ceil((min_perc_compatibility/100) * m), m+1)\n",
    "        \n",
    "        compatible_chargers = np.random.choice(np.arange(m), num_compatible_chargers, replace = False)\n",
    "        \n",
    "        A[i, compatible_chargers] = 1\n",
    "\n",
    "    chargers = np.zeros((m,2))\n",
    "    for i in range(m):\n",
    "        availability_time = np.random.uniform(min_chargers_availability_time, max_chargers_availability_time)\n",
    "        power = np.random.choice(charging_powers)\n",
    "        chargers[i] = availability_time, power\n",
    "\n",
    "    std_deviations = np.zeros((n,m))\n",
    "    for i in range(n):\n",
    "        for j in range(m):\n",
    "            if A[i,j] == 1:\n",
    "                std_deviations[i,j] = np.random.choice(std_deviations_values)\n",
    "\n",
    "    Instance = (requests, chargers, A, kappa, std_deviations)\n",
    "    return Instance\n",
    "\n",
    "Instance = simulate_instance()\n",
    "requests, chargers, A, kappa, std_deviations = Instance"
   ]
  },
  {
   "cell_type": "markdown",
   "id": "62547e3d-89e4-4a0a-bd38-6acd1345ef46",
   "metadata": {
    "jp-MarkdownHeadingCollapsed": true
   },
   "source": [
    "# Generate and plot a random schedule"
   ]
  },
  {
   "cell_type": "code",
   "execution_count": null,
   "id": "65fd1f3b-5c64-4b6b-b1e7-79e5b4bd3fc5",
   "metadata": {},
   "outputs": [],
   "source": [
    "Instance = simulate_instance(n = 50, m = 20)\n",
    "\n",
    "requests, chargers, A, kappa, std_deviations = Instance\n",
    "\n",
    "sigma, min_percentage, min_distance_between_vehicles, min_pl, min_npl, max_preemptions = 5, 20, 0.1, 0.1, 0.1, 5\n",
    "\n",
    "schedule = generate_random_schedule(Instance, sigma, min_percentage, min_distance_between_vehicles, min_pl, min_npl, max_preemptions)\n",
    "    \n",
    "plot_schedule(Instance, schedule, figsize=(20, 13))"
   ]
  },
  {
   "cell_type": "markdown",
   "id": "0db0b545-0073-41b8-9028-102ead0a6d15",
   "metadata": {
    "jp-MarkdownHeadingCollapsed": true
   },
   "source": [
    "# NSGA-II"
   ]
  },
  {
   "cell_type": "markdown",
   "id": "1aa02370-4644-4efd-98fa-b38c751428b9",
   "metadata": {},
   "source": [
    "## Test"
   ]
  },
  {
   "cell_type": "code",
   "execution_count": null,
   "id": "3d15a95e-236e-402a-87b2-26ac44fe7eb9",
   "metadata": {},
   "outputs": [],
   "source": [
    "Instance = simulate_instance(n = 30, m = 10)\n",
    "\n",
    "requests, chargers, A, kappa, std_deviations = Instance\n",
    "\n",
    "sigma, min_percentage, min_distance_between_vehicles, min_pl, min_npl, max_preemptions = 5, 50, 0.1, 0.1, 0.1, 20\n",
    "\n",
    "num_replications, p_m = 20, 0.1\n",
    "\n",
    "other_args = sigma, min_percentage, min_distance_between_vehicles, min_pl, min_npl, max_preemptions, num_replications, p_m\n",
    "\n",
    "result = NSGA2(Instance, other_args, inverse_signs = np.array([1,1,1]), population_size = 100, generations = 100, mutation_rate=0.2, p_sel = 0.3, show_progress = True)"
   ]
  },
  {
   "cell_type": "markdown",
   "id": "c52f7465-f095-4d79-836b-3dd34667d09c",
   "metadata": {
    "jp-MarkdownHeadingCollapsed": true
   },
   "source": [
    "# NSGA-III"
   ]
  },
  {
   "cell_type": "markdown",
   "id": "fd57c20c-6e77-4af7-ba55-4337a3d3fb0a",
   "metadata": {},
   "source": [
    "## Test"
   ]
  },
  {
   "cell_type": "code",
   "execution_count": null,
   "id": "eabbc3f9-c02b-4fb9-9c9a-5361644506c8",
   "metadata": {},
   "outputs": [],
   "source": [
    "ref_points = generate_reference_points(num_objectives = 3, divisions=20)\n",
    "\n",
    "Instance = simulate_instance(n = 20, m = 10)\n",
    "\n",
    "requests, chargers, A, kappa, std_deviations = Instance\n",
    "\n",
    "sigma, min_percentage, min_distance_between_vehicles, min_pl, min_npl, max_preemptions = 5, 50, 0.1, 0.1, 0.1, 2\n",
    "\n",
    "num_replications, p_m = 30, 0.1\n",
    "\n",
    "other_args = sigma, min_percentage, min_distance_between_vehicles, min_pl, min_npl, max_preemptions, num_replications, p_m, ref_points\n",
    "\n",
    "result = NSGA3(Instance, other_args, inverse_signs = np.array([1,1,1]), population_size = 100, generations = 100, mutation_rate=0.2, p_sel = 0.3, show_progress = True)"
   ]
  },
  {
   "cell_type": "markdown",
   "id": "e5a27d97-0cb3-4e53-9479-256659e7c226",
   "metadata": {
    "jp-MarkdownHeadingCollapsed": true
   },
   "source": [
    "# MOCS"
   ]
  },
  {
   "cell_type": "markdown",
   "id": "7e3b2dd3-c7fc-4b4f-afa4-a00f2fbb970e",
   "metadata": {},
   "source": [
    "## Test"
   ]
  },
  {
   "cell_type": "code",
   "execution_count": null,
   "id": "16111c0d-4c68-43ff-916f-f3374a84fa33",
   "metadata": {},
   "outputs": [],
   "source": [
    "Instance = simulate_instance(n = 50, m = 10)\n",
    "\n",
    "requests, chargers, A, kappa, std_deviations = Instance\n",
    "\n",
    "sigma, min_percentage, min_distance_between_vehicles, min_pl, min_npl, max_preemptions = 5, 50, 0.1, 0.1, 0.1, 2\n",
    "\n",
    "num_replications, pc = 30, 0.1\n",
    "\n",
    "other_args = sigma, min_percentage, min_distance_between_vehicles, min_pl, min_npl, max_preemptions, num_replications, pc\n",
    "\n",
    "result = MOCS(Instance, other_args, inverse_signs = np.array([1,1,1]), population_size = 100, generations = 150, perc_abandoned = 0.2, p_sel = 0.3, show_progress = True)"
   ]
  },
  {
   "cell_type": "markdown",
   "id": "5ff2cf69-f318-4459-92cc-c97a5cf0151f",
   "metadata": {
    "jp-MarkdownHeadingCollapsed": true
   },
   "source": [
    "# MOGWO"
   ]
  },
  {
   "cell_type": "markdown",
   "id": "c116cce7-e785-44c8-8fef-47034e6834da",
   "metadata": {},
   "source": [
    "## Test"
   ]
  },
  {
   "cell_type": "code",
   "execution_count": null,
   "id": "8b8014b4-f49f-4cc8-b512-ef507839737e",
   "metadata": {},
   "outputs": [],
   "source": [
    "Instance = simulate_instance(n = 20, m = 10)\n",
    "\n",
    "requests, chargers, A, kappa, std_deviations = Instance\n",
    "\n",
    "num_replications, sigma, min_percentage, min_distance_between_vehicles, min_pl, min_npl, max_preemptions = 30, 5, 50, 0.1, 0.1, 0.1, 2\n",
    "\n",
    "archive_maxsize, num_points_per_dim, alpha, beta = 1000, 10, 0.5, 0.5\n",
    "\n",
    "mutation_rate, p_m = 0.1, 0.1\n",
    "\n",
    "other_args = archive_maxsize, num_points_per_dim, alpha, beta, num_replications, sigma, min_percentage, min_distance_between_vehicles, min_pl, min_npl, max_preemptions, mutation_rate, p_m\n",
    "\n",
    "result = MOGWO(Instance, other_args, inverse_signs = np.array([1,1,1]), population_size = 100, generations = 150, show_progress = True)"
   ]
  }
 ],
 "metadata": {
  "kernelspec": {
   "display_name": "Python 3 (ipykernel)",
   "language": "python",
   "name": "python3"
  },
  "language_info": {
   "codemirror_mode": {
    "name": "ipython",
    "version": 3
   },
   "file_extension": ".py",
   "mimetype": "text/x-python",
   "name": "python",
   "nbconvert_exporter": "python",
   "pygments_lexer": "ipython3",
   "version": "3.12.8"
  }
 },
 "nbformat": 4,
 "nbformat_minor": 5
}
